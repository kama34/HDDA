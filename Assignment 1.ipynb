{
 "cells": [
  {
   "cell_type": "markdown",
   "metadata": {
    "id": "ReLQaJYkiQJe"
   },
   "source": [
    "<h1>Home Assignment #1</h1>\n"
   ]
  },
  {
   "cell_type": "markdown",
   "metadata": {
    "id": "OXlti6S0iZwl"
   },
   "source": [
    "## Task 1. PCA implementation (1 point)"
   ]
  },
  {
   "cell_type": "markdown",
   "metadata": {
    "id": "ICxDJzEXil7s"
   },
   "source": [
    "In this task, you are required to create your own class for PCA, implementing methods `fit` and `transform`. Class should require `n_components` parameter in the constructor."
   ]
  },
  {
   "cell_type": "code",
   "execution_count": 25,
   "metadata": {
    "executionInfo": {
     "elapsed": 310,
     "status": "ok",
     "timestamp": 1695849209801,
     "user": {
      "displayName": "Дмитрий Камышников",
      "userId": "03871553027115189109"
     },
     "user_tz": -180
    },
    "id": "zTWJ0JI9ULA8"
   },
   "outputs": [],
   "source": [
    "import numpy as np\n",
    "import pandas as pd\n",
    "from sklearn import datasets\n",
    "from sklearn.decomposition import PCA\n",
    "import matplotlib.pyplot as plt\n",
    "from keras.datasets import cifar10"
   ]
  },
  {
   "cell_type": "code",
   "execution_count": 26,
   "metadata": {
    "executionInfo": {
     "elapsed": 4,
     "status": "ok",
     "timestamp": 1695849209801,
     "user": {
      "displayName": "Дмитрий Камышников",
      "userId": "03871553027115189109"
     },
     "user_tz": -180
    },
    "id": "XTOnDx7LKEPb"
   },
   "outputs": [],
   "source": [
    "class my_PCA:\n",
    "  n_components_ = -1\n",
    "  components_ = []\n",
    "  eig_values_ = []\n",
    "  eig_vectors_ = []\n",
    "  mean_ = []\n",
    "\n",
    "  def __init__(self, n_components: int):\n",
    "    self.n_components_ = n_components\n",
    "\n",
    "  def fit(self, X):\n",
    "    self.mean_ = X.mean(axis=0)\n",
    "    X_centered = X - self.mean_\n",
    "    cov_mat = np.cov(X_centered.T)\n",
    "    eig_values, eig_vectors = np.linalg.eigh(cov_mat)\n",
    "    idx = eig_values.argsort()[::-1]\n",
    "    self.eig_values_ = eig_values[idx]\n",
    "    self.eig_vectors_ = eig_vectors[:,idx]\n",
    "    self.components_ = self.eig_vectors_[:,:self.n_components_]\n",
    "    return self\n",
    "\n",
    "  def transform(self, X):\n",
    "    X_centered = X - np.mean(X, axis=0)\n",
    "    return np.dot(X_centered, self.components_)\n",
    "\n",
    "  def restore_data(self, X):\n",
    "    return np.dot(X, self.components_.T) + self.mean_"
   ]
  },
  {
   "cell_type": "markdown",
   "metadata": {
    "id": "2A_-yvi1jH6k"
   },
   "source": [
    "Now, create some dataset using `sklearn` and implement fit and transform of your class at created data."
   ]
  },
  {
   "cell_type": "code",
   "execution_count": 27,
   "metadata": {
    "colab": {
     "base_uri": "https://localhost:8080/"
    },
    "executionInfo": {
     "elapsed": 4,
     "status": "ok",
     "timestamp": 1695849209801,
     "user": {
      "displayName": "Дмитрий Камышников",
      "userId": "03871553027115189109"
     },
     "user_tz": -180
    },
    "id": "cvY2KbHmiWGi",
    "outputId": "21025c7e-55cb-498a-bdba-f6a0ad770ae6"
   },
   "outputs": [
    {
     "name": "stdout",
     "output_type": "stream",
     "text": [
      "[[ 2.03597353  1.27911421 -0.68236029  0.32628833 -0.22611484]\n",
      " [-1.34094368 -1.75089629 -1.13082959  0.15473829  0.16053277]\n",
      " [-1.40374624 -1.95683229  0.70605612 -0.28129639  1.28919325]\n",
      " [ 2.14127633 -2.01941803  0.12659879  1.62219264 -0.26160371]\n",
      " [-2.63353734  1.00569335  1.03689433  0.73635725 -0.38599562]\n",
      " [-1.21196233 -0.61526448  0.91946219 -1.27326579 -1.16328595]\n",
      " [-2.08553901  2.37698869 -0.86557841  0.76395109  0.10356908]\n",
      " [ 0.99332314 -0.4795848  -1.23051166 -0.86845073 -1.02476985]\n",
      " [ 1.02072789  0.96001981 -0.7322914  -0.99721881  1.29443837]\n",
      " [ 2.4844277   1.20017982  1.85255993 -0.18329587  0.2140365 ]]\n"
     ]
    }
   ],
   "source": [
    "X, y = datasets.make_regression(n_samples=10, n_features=10, n_informative=5, noise=.0, bias=0.5, random_state=2024)\n",
    "myModel = my_PCA(n_components = 5)\n",
    "myModel.fit(X)\n",
    "X_myScaled = myModel.transform(X)\n",
    "print(X_myScaled)"
   ]
  },
  {
   "cell_type": "markdown",
   "metadata": {
    "id": "p6_AXG57jXWa"
   },
   "source": [
    "Compare transformed data with one, obtainable using `PCA` implementation from `scikit-learn` library."
   ]
  },
  {
   "cell_type": "code",
   "execution_count": 28,
   "metadata": {
    "colab": {
     "base_uri": "https://localhost:8080/"
    },
    "executionInfo": {
     "elapsed": 3,
     "status": "ok",
     "timestamp": 1695849209801,
     "user": {
      "displayName": "Дмитрий Камышников",
      "userId": "03871553027115189109"
     },
     "user_tz": -180
    },
    "id": "fmsvrEcQjjpo",
    "outputId": "e7217b61-984a-4a16-d089-48000d4feb54"
   },
   "outputs": [
    {
     "name": "stdout",
     "output_type": "stream",
     "text": [
      "[[-2.03597353  1.27911421 -0.68236029  0.32628833 -0.22611484]\n",
      " [ 1.34094368 -1.75089629 -1.13082959  0.15473829  0.16053277]\n",
      " [ 1.40374624 -1.95683229  0.70605612 -0.28129639  1.28919325]\n",
      " [-2.14127633 -2.01941803  0.12659879  1.62219264 -0.26160371]\n",
      " [ 2.63353734  1.00569335  1.03689433  0.73635725 -0.38599562]\n",
      " [ 1.21196233 -0.61526448  0.91946219 -1.27326579 -1.16328595]\n",
      " [ 2.08553901  2.37698869 -0.86557841  0.76395109  0.10356908]\n",
      " [-0.99332314 -0.4795848  -1.23051166 -0.86845073 -1.02476985]\n",
      " [-1.02072789  0.96001981 -0.7322914  -0.99721881  1.29443837]\n",
      " [-2.4844277   1.20017982  1.85255993 -0.18329587  0.2140365 ]]\n"
     ]
    }
   ],
   "source": [
    "model = PCA(n_components = 5)\n",
    "model.fit(X)\n",
    "X_scaled = model.transform(X)\n",
    "\n",
    "print(X_scaled)"
   ]
  },
  {
   "cell_type": "markdown",
   "metadata": {
    "id": "3MFUHlIjjllA"
   },
   "source": [
    "## Task 2. CIFAR basis (4 points)"
   ]
  },
  {
   "cell_type": "markdown",
   "metadata": {
    "id": "fznSvJ0ujs5O"
   },
   "source": [
    "Retrieve the data of the CIFAR-10 dataset. Those images has the same shape, making them appropriate for the use of PCA. Your task is to find the most effective basis for the images using PCA you implemented."
   ]
  },
  {
   "cell_type": "code",
   "execution_count": 29,
   "metadata": {
    "executionInfo": {
     "elapsed": 3993,
     "status": "ok",
     "timestamp": 1695849213793,
     "user": {
      "displayName": "Дмитрий Камышников",
      "userId": "03871553027115189109"
     },
     "user_tz": -180
    },
    "id": "g8sqY-yhjrRr"
   },
   "outputs": [],
   "source": [
    "(X_train, y_train), (x_test, y_test) = cifar10.load_data()\n",
    "data = X_train.reshape(-1, 32*32*3)\n",
    "X_train_reshape = X_train.reshape(-1,32*32*3)\n",
    "x_test_reshape = x_test.reshape(-1,32*32*3)"
   ]
  },
  {
   "cell_type": "code",
   "execution_count": 30,
   "metadata": {
    "executionInfo": {
     "elapsed": 28821,
     "status": "ok",
     "timestamp": 1695849242605,
     "user": {
      "displayName": "Дмитрий Камышников",
      "userId": "03871553027115189109"
     },
     "user_tz": -180
    },
    "id": "6JGW1gafxgq8"
   },
   "outputs": [],
   "source": [
    "model = my_PCA(n_components = 3072)\n",
    "model.fit(data)\n",
    "\n",
    "eig_values = model.eig_values_\n",
    "tot = sum(eig_values)\n",
    "var_exp = [(i / tot)*100 for i in sorted(eig_values, reverse=True)]\n",
    "cum_var_exp = np.cumsum(var_exp)"
   ]
  },
  {
   "cell_type": "code",
   "execution_count": 31,
   "metadata": {
    "colab": {
     "base_uri": "https://localhost:8080/"
    },
    "executionInfo": {
     "elapsed": 3,
     "status": "ok",
     "timestamp": 1695849242605,
     "user": {
      "displayName": "Дмитрий Камышников",
      "userId": "03871553027115189109"
     },
     "user_tz": -180
    },
    "id": "P6udHWSFH5sP",
    "outputId": "b7d660a3-bfb5-40ee-c4d7-7cb377b7a288"
   },
   "outputs": [
    {
     "name": "stdout",
     "output_type": "stream",
     "text": [
      "99.00062099982748\n",
      "657\n"
     ]
    }
   ],
   "source": [
    "optimal_N = None\n",
    "for i, var in enumerate(cum_var_exp):\n",
    "  if var > 99:\n",
    "    print(var)\n",
    "    optimal_N = i\n",
    "    break\n",
    "print(optimal_N)"
   ]
  },
  {
   "cell_type": "code",
   "execution_count": 32,
   "metadata": {
    "colab": {
     "base_uri": "https://localhost:8080/"
    },
    "executionInfo": {
     "elapsed": 28235,
     "status": "ok",
     "timestamp": 1695849270838,
     "user": {
      "displayName": "Дмитрий Камышников",
      "userId": "03871553027115189109"
     },
     "user_tz": -180
    },
    "id": "WlmW59V446V7",
    "outputId": "fa2c503b-80aa-48cd-cccf-84f23fa7382b"
   },
   "outputs": [
    {
     "data": {
      "text/plain": [
       "<__main__.my_PCA at 0x2088fe57310>"
      ]
     },
     "execution_count": 32,
     "metadata": {},
     "output_type": "execute_result"
    }
   ],
   "source": [
    "n_components = optimal_N\n",
    "pca = my_PCA(n_components = n_components)\n",
    "pca.fit(data)"
   ]
  },
  {
   "cell_type": "markdown",
   "metadata": {
    "id": "RfcT2LBBluCX"
   },
   "source": [
    "Create function for image approximation visualization using first `N` basis-\"images\"."
   ]
  },
  {
   "cell_type": "code",
   "execution_count": 33,
   "metadata": {
    "colab": {
     "base_uri": "https://localhost:8080/",
     "height": 268
    },
    "executionInfo": {
     "elapsed": 27967,
     "status": "ok",
     "timestamp": 1695849298795,
     "user": {
      "displayName": "Дмитрий Камышников",
      "userId": "03871553027115189109"
     },
     "user_tz": -180
    },
    "id": "EWXnTFJzl9Xv",
    "outputId": "12f4db8a-7037-47c5-9436-0bc1bef4a57e",
    "scrolled": true
   },
   "outputs": [
    {
     "data": {
      "image/png": "[encoded data removed]",
      "text/plain": [
       "<Figure size 600x300 with 1 Axes>"
      ]
     },
     "metadata": {},
     "output_type": "display_data"
    }
   ],
   "source": [
    "def plot_n_basis(n):\n",
    "    pca = my_PCA(n_components = n)\n",
    "    pca.fit(data)\n",
    "    new_image = pca.transform(data[0])\n",
    "    new_image = pca.restore_data(new_image)\n",
    "    new_image = new_image.reshape(32,32,3)\n",
    "    new_image = (new_image - np.min(new_image)) / (np.max(new_image) - np.min(new_image))\n",
    "    fig, axes = plt.subplots(1, 1, figsize=(6, 3))\n",
    "    axes.imshow(new_image)\n",
    "    axes.axis('off')\n",
    "    plt.show()\n",
    "\n",
    "plot_n_basis(657)"
   ]
  },
  {
   "cell_type": "markdown",
   "metadata": {
    "id": "6PinjQuel-bU"
   },
   "source": [
    "Create function to visualize `N`-th basis image."
   ]
  },
  {
   "cell_type": "code",
   "execution_count": 34,
   "metadata": {
    "colab": {
     "base_uri": "https://localhost:8080/",
     "height": 268
    },
    "executionInfo": {
     "elapsed": 5,
     "status": "ok",
     "timestamp": 1695849298795,
     "user": {
      "displayName": "Дмитрий Камышников",
      "userId": "03871553027115189109"
     },
     "user_tz": -180
    },
    "id": "QocRYxW8IAr4",
    "outputId": "a1e5be10-9998-4072-d25c-b306ea6b84ca"
   },
   "outputs": [
    {
     "data": {
      "image/png": "[encoded data removed]",
      "text/plain": [
       "<Figure size 1500x300 with 1 Axes>"
      ]
     },
     "metadata": {},
     "output_type": "display_data"
    }
   ],
   "source": [
    "def plot_nth_basis(n):\n",
    "    fig, axes = plt.subplots(1, 1, figsize=(15, 3))\n",
    "    new_image = pca.components_.T[n]\n",
    "    new_image = new_image.reshape(32,32,3)\n",
    "    new_image = (new_image - np.min(new_image)) / (np.max(new_image) - np.min(new_image))\n",
    "    axes.imshow(new_image)\n",
    "    axes.axis('off')\n",
    "    plt.show()\n",
    "\n",
    "plot_nth_basis(20)"
   ]
  },
  {
   "cell_type": "markdown",
   "metadata": {
    "id": "OZSHZePQ7x-k"
   },
   "source": [
    "Train a linear classifier model at image dataset, using logspace-distributed points as the number of components (min – 1, max – all). Use at least 20 distinct numbers of components.\n",
    "\n",
    "For each trained model, evaluate the model using test set. Plot the dependency of accuracy at test depending on the number of components used by PCA. Explain this dependency."
   ]
  },
  {
   "cell_type": "code",
   "execution_count": 35,
   "metadata": {
    "colab": {
     "base_uri": "https://localhost:8080/"
    },
    "id": "I9jTQBXb7wbk",
    "outputId": "b8f03b8b-bc76-42a9-9422-d1658e442fb2"
   },
   "outputs": [
    {
     "name": "stderr",
     "output_type": "stream",
     "text": [
      "D:\\anaconda3\\Lib\\site-packages\\sklearn\\utils\\validation.py:1184: DataConversionWarning: A column-vector y was passed when a 1d array was expected. Please change the shape of y to (n_samples, ), for example using ravel().\n",
      "  y = column_or_1d(y, warn=True)\n",
      "D:\\anaconda3\\Lib\\site-packages\\sklearn\\utils\\validation.py:1184: DataConversionWarning: A column-vector y was passed when a 1d array was expected. Please change the shape of y to (n_samples, ), for example using ravel().\n",
      "  y = column_or_1d(y, warn=True)\n",
      "D:\\anaconda3\\Lib\\site-packages\\sklearn\\utils\\validation.py:1184: DataConversionWarning: A column-vector y was passed when a 1d array was expected. Please change the shape of y to (n_samples, ), for example using ravel().\n",
      "  y = column_or_1d(y, warn=True)\n",
      "D:\\anaconda3\\Lib\\site-packages\\sklearn\\utils\\validation.py:1184: DataConversionWarning: A column-vector y was passed when a 1d array was expected. Please change the shape of y to (n_samples, ), for example using ravel().\n",
      "  y = column_or_1d(y, warn=True)\n",
      "D:\\anaconda3\\Lib\\site-packages\\sklearn\\utils\\validation.py:1184: DataConversionWarning: A column-vector y was passed when a 1d array was expected. Please change the shape of y to (n_samples, ), for example using ravel().\n",
      "  y = column_or_1d(y, warn=True)\n",
      "D:\\anaconda3\\Lib\\site-packages\\sklearn\\utils\\validation.py:1184: DataConversionWarning: A column-vector y was passed when a 1d array was expected. Please change the shape of y to (n_samples, ), for example using ravel().\n",
      "  y = column_or_1d(y, warn=True)\n",
      "D:\\anaconda3\\Lib\\site-packages\\sklearn\\utils\\validation.py:1184: DataConversionWarning: A column-vector y was passed when a 1d array was expected. Please change the shape of y to (n_samples, ), for example using ravel().\n",
      "  y = column_or_1d(y, warn=True)\n",
      "D:\\anaconda3\\Lib\\site-packages\\sklearn\\utils\\validation.py:1184: DataConversionWarning: A column-vector y was passed when a 1d array was expected. Please change the shape of y to (n_samples, ), for example using ravel().\n",
      "  y = column_or_1d(y, warn=True)\n",
      "D:\\anaconda3\\Lib\\site-packages\\sklearn\\linear_model\\_logistic.py:460: ConvergenceWarning: lbfgs failed to converge (status=1):\n",
      "STOP: TOTAL NO. of ITERATIONS REACHED LIMIT.\n",
      "\n",
      "Increase the number of iterations (max_iter) or scale the data as shown in:\n",
      "    https://scikit-learn.org/stable/modules/preprocessing.html\n",
      "Please also refer to the documentation for alternative solver options:\n",
      "    https://scikit-learn.org/stable/modules/linear_model.html#logistic-regression\n",
      "  n_iter_i = _check_optimize_result(\n",
      "D:\\anaconda3\\Lib\\site-packages\\sklearn\\utils\\validation.py:1184: DataConversionWarning: A column-vector y was passed when a 1d array was expected. Please change the shape of y to (n_samples, ), for example using ravel().\n",
      "  y = column_or_1d(y, warn=True)\n",
      "D:\\anaconda3\\Lib\\site-packages\\sklearn\\linear_model\\_logistic.py:460: ConvergenceWarning: lbfgs failed to converge (status=1):\n",
      "STOP: TOTAL NO. of ITERATIONS REACHED LIMIT.\n",
      "\n",
      "Increase the number of iterations (max_iter) or scale the data as shown in:\n",
      "    https://scikit-learn.org/stable/modules/preprocessing.html\n",
      "Please also refer to the documentation for alternative solver options:\n",
      "    https://scikit-learn.org/stable/modules/linear_model.html#logistic-regression\n",
      "  n_iter_i = _check_optimize_result(\n",
      "D:\\anaconda3\\Lib\\site-packages\\sklearn\\utils\\validation.py:1184: DataConversionWarning: A column-vector y was passed when a 1d array was expected. Please change the shape of y to (n_samples, ), for example using ravel().\n",
      "  y = column_or_1d(y, warn=True)\n",
      "D:\\anaconda3\\Lib\\site-packages\\sklearn\\linear_model\\_logistic.py:460: ConvergenceWarning: lbfgs failed to converge (status=1):\n",
      "STOP: TOTAL NO. of ITERATIONS REACHED LIMIT.\n",
      "\n",
      "Increase the number of iterations (max_iter) or scale the data as shown in:\n",
      "    https://scikit-learn.org/stable/modules/preprocessing.html\n",
      "Please also refer to the documentation for alternative solver options:\n",
      "    https://scikit-learn.org/stable/modules/linear_model.html#logistic-regression\n",
      "  n_iter_i = _check_optimize_result(\n",
      "D:\\anaconda3\\Lib\\site-packages\\sklearn\\utils\\validation.py:1184: DataConversionWarning: A column-vector y was passed when a 1d array was expected. Please change the shape of y to (n_samples, ), for example using ravel().\n",
      "  y = column_or_1d(y, warn=True)\n",
      "D:\\anaconda3\\Lib\\site-packages\\sklearn\\linear_model\\_logistic.py:460: ConvergenceWarning: lbfgs failed to converge (status=1):\n",
      "STOP: TOTAL NO. of ITERATIONS REACHED LIMIT.\n",
      "\n",
      "Increase the number of iterations (max_iter) or scale the data as shown in:\n",
      "    https://scikit-learn.org/stable/modules/preprocessing.html\n",
      "Please also refer to the documentation for alternative solver options:\n",
      "    https://scikit-learn.org/stable/modules/linear_model.html#logistic-regression\n",
      "  n_iter_i = _check_optimize_result(\n",
      "D:\\anaconda3\\Lib\\site-packages\\sklearn\\utils\\validation.py:1184: DataConversionWarning: A column-vector y was passed when a 1d array was expected. Please change the shape of y to (n_samples, ), for example using ravel().\n",
      "  y = column_or_1d(y, warn=True)\n",
      "D:\\anaconda3\\Lib\\site-packages\\sklearn\\linear_model\\_logistic.py:460: ConvergenceWarning: lbfgs failed to converge (status=1):\n",
      "STOP: TOTAL NO. of ITERATIONS REACHED LIMIT.\n",
      "\n",
      "Increase the number of iterations (max_iter) or scale the data as shown in:\n",
      "    https://scikit-learn.org/stable/modules/preprocessing.html\n",
      "Please also refer to the documentation for alternative solver options:\n",
      "    https://scikit-learn.org/stable/modules/linear_model.html#logistic-regression\n",
      "  n_iter_i = _check_optimize_result(\n",
      "D:\\anaconda3\\Lib\\site-packages\\sklearn\\utils\\validation.py:1184: DataConversionWarning: A column-vector y was passed when a 1d array was expected. Please change the shape of y to (n_samples, ), for example using ravel().\n",
      "  y = column_or_1d(y, warn=True)\n",
      "D:\\anaconda3\\Lib\\site-packages\\sklearn\\linear_model\\_logistic.py:460: ConvergenceWarning: lbfgs failed to converge (status=1):\n",
      "STOP: TOTAL NO. of ITERATIONS REACHED LIMIT.\n",
      "\n",
      "Increase the number of iterations (max_iter) or scale the data as shown in:\n",
      "    https://scikit-learn.org/stable/modules/preprocessing.html\n",
      "Please also refer to the documentation for alternative solver options:\n",
      "    https://scikit-learn.org/stable/modules/linear_model.html#logistic-regression\n",
      "  n_iter_i = _check_optimize_result(\n",
      "D:\\anaconda3\\Lib\\site-packages\\sklearn\\utils\\validation.py:1184: DataConversionWarning: A column-vector y was passed when a 1d array was expected. Please change the shape of y to (n_samples, ), for example using ravel().\n",
      "  y = column_or_1d(y, warn=True)\n",
      "D:\\anaconda3\\Lib\\site-packages\\sklearn\\linear_model\\_logistic.py:460: ConvergenceWarning: lbfgs failed to converge (status=1):\n",
      "STOP: TOTAL NO. of ITERATIONS REACHED LIMIT.\n",
      "\n",
      "Increase the number of iterations (max_iter) or scale the data as shown in:\n",
      "    https://scikit-learn.org/stable/modules/preprocessing.html\n",
      "Please also refer to the documentation for alternative solver options:\n",
      "    https://scikit-learn.org/stable/modules/linear_model.html#logistic-regression\n",
      "  n_iter_i = _check_optimize_result(\n",
      "D:\\anaconda3\\Lib\\site-packages\\sklearn\\utils\\validation.py:1184: DataConversionWarning: A column-vector y was passed when a 1d array was expected. Please change the shape of y to (n_samples, ), for example using ravel().\n",
      "  y = column_or_1d(y, warn=True)\n",
      "D:\\anaconda3\\Lib\\site-packages\\sklearn\\linear_model\\_logistic.py:460: ConvergenceWarning: lbfgs failed to converge (status=1):\n",
      "STOP: TOTAL NO. of ITERATIONS REACHED LIMIT.\n",
      "\n",
      "Increase the number of iterations (max_iter) or scale the data as shown in:\n",
      "    https://scikit-learn.org/stable/modules/preprocessing.html\n",
      "Please also refer to the documentation for alternative solver options:\n",
      "    https://scikit-learn.org/stable/modules/linear_model.html#logistic-regression\n",
      "  n_iter_i = _check_optimize_result(\n",
      "D:\\anaconda3\\Lib\\site-packages\\sklearn\\utils\\validation.py:1184: DataConversionWarning: A column-vector y was passed when a 1d array was expected. Please change the shape of y to (n_samples, ), for example using ravel().\n",
      "  y = column_or_1d(y, warn=True)\n",
      "D:\\anaconda3\\Lib\\site-packages\\sklearn\\linear_model\\_logistic.py:460: ConvergenceWarning: lbfgs failed to converge (status=1):\n",
      "STOP: TOTAL NO. of ITERATIONS REACHED LIMIT.\n",
      "\n",
      "Increase the number of iterations (max_iter) or scale the data as shown in:\n",
      "    https://scikit-learn.org/stable/modules/preprocessing.html\n",
      "Please also refer to the documentation for alternative solver options:\n",
      "    https://scikit-learn.org/stable/modules/linear_model.html#logistic-regression\n",
      "  n_iter_i = _check_optimize_result(\n"
     ]
    },
    {
     "name": "stderr",
     "output_type": "stream",
     "text": [
      "D:\\anaconda3\\Lib\\site-packages\\sklearn\\utils\\validation.py:1184: DataConversionWarning: A column-vector y was passed when a 1d array was expected. Please change the shape of y to (n_samples, ), for example using ravel().\n",
      "  y = column_or_1d(y, warn=True)\n",
      "D:\\anaconda3\\Lib\\site-packages\\sklearn\\linear_model\\_logistic.py:460: ConvergenceWarning: lbfgs failed to converge (status=1):\n",
      "STOP: TOTAL NO. of ITERATIONS REACHED LIMIT.\n",
      "\n",
      "Increase the number of iterations (max_iter) or scale the data as shown in:\n",
      "    https://scikit-learn.org/stable/modules/preprocessing.html\n",
      "Please also refer to the documentation for alternative solver options:\n",
      "    https://scikit-learn.org/stable/modules/linear_model.html#logistic-regression\n",
      "  n_iter_i = _check_optimize_result(\n",
      "D:\\anaconda3\\Lib\\site-packages\\sklearn\\utils\\validation.py:1184: DataConversionWarning: A column-vector y was passed when a 1d array was expected. Please change the shape of y to (n_samples, ), for example using ravel().\n",
      "  y = column_or_1d(y, warn=True)\n",
      "D:\\anaconda3\\Lib\\site-packages\\sklearn\\linear_model\\_logistic.py:460: ConvergenceWarning: lbfgs failed to converge (status=1):\n",
      "STOP: TOTAL NO. of ITERATIONS REACHED LIMIT.\n",
      "\n",
      "Increase the number of iterations (max_iter) or scale the data as shown in:\n",
      "    https://scikit-learn.org/stable/modules/preprocessing.html\n",
      "Please also refer to the documentation for alternative solver options:\n",
      "    https://scikit-learn.org/stable/modules/linear_model.html#logistic-regression\n",
      "  n_iter_i = _check_optimize_result(\n",
      "D:\\anaconda3\\Lib\\site-packages\\sklearn\\utils\\validation.py:1184: DataConversionWarning: A column-vector y was passed when a 1d array was expected. Please change the shape of y to (n_samples, ), for example using ravel().\n",
      "  y = column_or_1d(y, warn=True)\n",
      "D:\\anaconda3\\Lib\\site-packages\\sklearn\\linear_model\\_logistic.py:460: ConvergenceWarning: lbfgs failed to converge (status=1):\n",
      "STOP: TOTAL NO. of ITERATIONS REACHED LIMIT.\n",
      "\n",
      "Increase the number of iterations (max_iter) or scale the data as shown in:\n",
      "    https://scikit-learn.org/stable/modules/preprocessing.html\n",
      "Please also refer to the documentation for alternative solver options:\n",
      "    https://scikit-learn.org/stable/modules/linear_model.html#logistic-regression\n",
      "  n_iter_i = _check_optimize_result(\n",
      "D:\\anaconda3\\Lib\\site-packages\\sklearn\\utils\\validation.py:1184: DataConversionWarning: A column-vector y was passed when a 1d array was expected. Please change the shape of y to (n_samples, ), for example using ravel().\n",
      "  y = column_or_1d(y, warn=True)\n",
      "D:\\anaconda3\\Lib\\site-packages\\sklearn\\linear_model\\_logistic.py:460: ConvergenceWarning: lbfgs failed to converge (status=1):\n",
      "STOP: TOTAL NO. of ITERATIONS REACHED LIMIT.\n",
      "\n",
      "Increase the number of iterations (max_iter) or scale the data as shown in:\n",
      "    https://scikit-learn.org/stable/modules/preprocessing.html\n",
      "Please also refer to the documentation for alternative solver options:\n",
      "    https://scikit-learn.org/stable/modules/linear_model.html#logistic-regression\n",
      "  n_iter_i = _check_optimize_result(\n"
     ]
    }
   ],
   "source": [
    "# write your code here\n",
    "from sklearn.linear_model import LogisticRegression\n",
    "from sklearn.metrics import accuracy_score\n",
    "\n",
    "# Define a range of components for PCA\n",
    "# num_components_range_pca = np.logspace(0, np.log10(X_train.shape[1]), 20).astype(int)\n",
    "num_components_range_pca = np.ceil(np.logspace(0, np.log(3072), num = 20, base = np.e)).astype(int)\n",
    "\n",
    "# Lists to store accuracy scores\n",
    "accuracy_scores_pca = []\n",
    "\n",
    "for num_components in num_components_range_pca:\n",
    "    # Create an instance of your custom PCA class\n",
    "    pca = my_PCA(n_components=num_components)\n",
    "\n",
    "    # Fit the PCA model to the training data\n",
    "    pca.fit(X_train_reshape)\n",
    "\n",
    "    # Transform training and test data using PCA\n",
    "    X_train_pca = pca.transform(X_train_reshape)\n",
    "    X_test_pca = pca.transform(x_test_reshape)\n",
    "\n",
    "    # Train a linear classifier (Logistic Regression) on transformed training data\n",
    "    clf = LogisticRegression()\n",
    "    clf.fit(X_train_pca, y_train)\n",
    "\n",
    "    # Evaluate the model on the transformed test data\n",
    "    y_pred = clf.predict(X_test_pca)\n",
    "    accuracy = accuracy_score(y_test, y_pred)\n",
    "\n",
    "    # Store the accuracy score\n",
    "    accuracy_scores_pca.append(accuracy)\n"
   ]
  },
  {
   "cell_type": "code",
   "execution_count": 36,
   "metadata": {},
   "outputs": [
    {
     "data": {
      "image/png": "[encoded data removed]",
      "text/plain": [
       "<Figure size 800x600 with 1 Axes>"
      ]
     },
     "metadata": {},
     "output_type": "display_data"
    }
   ],
   "source": [
    "# Plot the dependency of accuracy on the number of components\n",
    "plt.figure(figsize=(8, 6))\n",
    "plt.plot(num_components_range_pca, accuracy_scores_pca, marker='o')\n",
    "plt.xlabel('Number of PCA Components')\n",
    "plt.ylabel('Test Accuracy')\n",
    "plt.title('PCA Components vs. Test Accuracy')\n",
    "# plt.xscale('log')\n",
    "plt.grid(True)\n",
    "plt.show()"
   ]
  },
  {
   "cell_type": "markdown",
   "metadata": {
    "id": "0kFlrf2Jmd-U"
   },
   "source": [
    "As you may notice, many basis images have negative elements, although the data itself is purely non-negative. Why is it so, why do we have negative elements from mathematical point of view? In what cases negative elements may be absent in PCA projection vectors?"
   ]
  },
  {
   "cell_type": "markdown",
   "metadata": {
    "id": "NAiSqPA-oTw5"
   },
   "source": [
    "*write your answer here*\n",
    "\n",
    "Explanation of Dependency:\n",
    "\n",
    "The plot will show how the test accuracy varies with the number of PCA components. You should observe an initially increasing trend in accuracy as you increase the number of components. This is because PCA components capture the most significant sources of variation in the data.\n",
    "\n",
    "\n",
    "However, there will be a point where adding more components does not significantly improve accuracy or may even lead to overfitting, resulting in a plateau or a drop in accuracy. This is because additional components may capture noise or minor variations that are not informative for classification.\n",
    "\n",
    "1. Mathematical Perspective:\n",
    "\n",
    "Orthogonal Transformation (PCA): PCA is a technique that finds orthogonal components (principal components) that capture the maximum variance in the data. These components are determined through linear combinations of the original features. Since the objective is to capture variance, some of these linear combinations can have negative coefficients if they help explain the data's variance better.\n",
    "\n",
    "Non-Negative Linear Combinations (NMF): In contrast, NMF enforces non-negativity constraints on both the basis and coefficient matrices. While this constraint ensures that the basis images (components) and their linear combinations are non-negative, it may limit the ability of NMF to capture certain patterns, especially when the data has both positive and negative correlations.\n",
    "\n",
    "2. Cases When Negative Elements May Be Absent in PCA Projection Vectors:\n",
    "\n",
    "Data with Strictly Positive Correlations: In some cases, when the data has strictly positive correlations and no significant negative correlations, the PCA projection vectors (principal components) may not have negative elements. This is more likely to occur when the data inherently follows a positive structure, and PCA can capture this structure without needing negative coefficients.\n",
    "\n",
    "Data Centering: Centering the data by subtracting the mean before applying PCA can sometimes help ensure that the resulting principal components have more intuitive and positive elements. Centering shifts the origin of the data to zero, and PCA then captures variance around this centered point.\n",
    "\n",
    "Data Scaling: Scaling the data to have unit variance in each dimension can also affect the signs of PCA components. Scaling can lead to more consistent signs in the components, although the overall direction (positive or negative) can still vary."
   ]
  },
  {
   "cell_type": "markdown",
   "metadata": {
    "id": "5mNfaQAd8cru"
   },
   "source": [
    "---"
   ]
  },
  {
   "cell_type": "markdown",
   "metadata": {
    "id": "hJU2k6WkoWN8"
   },
   "source": [
    "There are matrix decompositions, that may be more useful than SVD in particular cases. For example, non-negative matrix factorization. You should implement [it](https://en.wikipedia.org/wiki/Non-negative_matrix_factorization#Algorithms) and use at the CIFAR-10 dataset."
   ]
  },
  {
   "cell_type": "code",
   "execution_count": 37,
   "metadata": {
    "executionInfo": {
     "elapsed": 2,
     "status": "ok",
     "timestamp": 1695849299909,
     "user": {
      "displayName": "Дмитрий Камышников",
      "userId": "03871553027115189109"
     },
     "user_tz": -180
    },
    "id": "askzon-YoKdN"
   },
   "outputs": [],
   "source": [
    "def nmf(X, num_components, max_iterations=100, tol=1e-6):\n",
    "    m, n = X.shape\n",
    "    # Initialize W and H with random values\n",
    "    W = np.random.rand(m, num_components)\n",
    "    H = np.random.rand(num_components, n)\n",
    "\n",
    "    for iteration in range(max_iterations):\n",
    "        # Update H\n",
    "        H *= (W.T @ X) / (W.T @ W @ H + 1e-9)\n",
    "\n",
    "        # Update W\n",
    "        W *= (X @ H.T) / (W @ H @ H.T + 1e-9)\n",
    "\n",
    "        # Calculate the Frobenius norm of the error\n",
    "        error = np.linalg.norm(X - W @ H)\n",
    "\n",
    "        # Check for convergence\n",
    "        if error < tol:\n",
    "            break\n",
    "\n",
    "    return W, H"
   ]
  },
  {
   "cell_type": "code",
   "execution_count": 14,
   "metadata": {
    "colab": {
     "base_uri": "https://localhost:8080/",
     "height": 303
    },
    "executionInfo": {
     "elapsed": 39224,
     "status": "error",
     "timestamp": 1695849339131,
     "user": {
      "displayName": "Дмитрий Камышников",
      "userId": "03871553027115189109"
     },
     "user_tz": -180
    },
    "id": "qrX2QmA346V9",
    "outputId": "b2db34e5-ffd2-457e-a2f9-b60b9052c108",
    "scrolled": true
   },
   "outputs": [
    {
     "name": "stdout",
     "output_type": "stream",
     "text": [
      "Original Matrix (X):\n",
      "[[ 59  62  63 ... 123  92  72]\n",
      " [154 177 187 ... 143 133 144]\n",
      " [255 255 255 ...  80  86  84]\n",
      " ...\n",
      " [ 35 178 235 ...  12  31  50]\n",
      " [189 211 240 ... 195 190 171]\n",
      " [229 229 239 ... 163 163 161]]\n",
      "\n",
      "Basis Matrix (W):\n",
      "[[1.27007874e-05 8.64299752e-03 3.59684877e-01 ... 8.09234907e-04\n",
      "  1.44341242e+00 9.40052377e-03]\n",
      " [3.79670291e-01 5.97853273e-01 5.32504777e-02 ... 2.64839604e-02\n",
      "  3.04622761e-01 8.97212836e-01]\n",
      " [1.39884597e-02 3.40564052e-01 5.25139566e+00 ... 3.80913273e-01\n",
      "  5.76954615e-04 7.79391959e-01]\n",
      " ...\n",
      " [4.41886662e-01 5.49516190e-01 2.65005833e+00 ... 2.43027624e-03\n",
      "  3.02279750e-05 3.49664486e-05]\n",
      " [4.64339454e-01 7.10270762e-01 1.40967947e+00 ... 9.62447592e-01\n",
      "  1.29617896e+00 2.14364841e+00]\n",
      " [5.51248832e-01 2.25869381e+00 8.51188203e-02 ... 2.09576116e-03\n",
      "  9.30716111e-01 1.01095227e-02]]\n",
      "\n",
      "Coefficient Matrix (H):\n",
      "[[0.00754369 0.05646238 0.04342472 ... 0.1617217  0.12420858 0.11777894]\n",
      " [0.02910837 0.03578062 0.07787784 ... 0.02125735 0.0226326  0.00295699]\n",
      " [0.33483713 0.32470889 0.11419562 ... 0.02585258 0.01298979 0.00786706]\n",
      " ...\n",
      " [0.16725544 0.12869132 0.08848198 ... 0.02300242 0.04657955 0.01329153]\n",
      " [0.01909153 0.0173483  0.00588026 ... 0.02958519 0.02357448 0.02962212]\n",
      " [0.05406241 0.09449965 0.00196984 ... 0.42799721 0.2792125  0.10546888]]\n",
      "\n",
      "Reconstructed Matrix (W * H):\n",
      "[[ 82.79671359  68.00162007  33.07409777 ... 126.70349091  98.49313394\n",
      "   49.05691006]\n",
      " [128.53614178 135.95223684 143.47182875 ... 120.93336179 131.91763734\n",
      "  128.94111967]\n",
      " [257.29464322 259.95009108 258.30744788 ...  79.06024092  84.87425753\n",
      "   82.69657401]\n",
      " ...\n",
      " [ 86.14681813 167.36612241 251.45440791 ...  37.17168149  49.27048304\n",
      "   61.47215218]\n",
      " [198.01469343 210.96585219 231.43591771 ... 218.71060242 208.62729733\n",
      "  204.33752477]\n",
      " [224.44643591 224.68864305 229.62266071 ... 171.78279522 176.13765482\n",
      "  174.12889404]]\n"
     ]
    }
   ],
   "source": [
    "X = data\n",
    "\n",
    "# Number of components for factorization\n",
    "num_components = 657\n",
    "\n",
    "# Perform NMF\n",
    "W, H = nmf(X, num_components, max_iterations = 200)\n",
    "\n",
    "print(\"Original Matrix (X):\")\n",
    "print(X)\n",
    "print(\"\\nBasis Matrix (W):\")\n",
    "print(W)\n",
    "print(\"\\nCoefficient Matrix (H):\")\n",
    "print(H)\n",
    "print(\"\\nReconstructed Matrix (W * H):\")\n",
    "print(W @ H)"
   ]
  },
  {
   "cell_type": "code",
   "execution_count": 38,
   "metadata": {},
   "outputs": [
    {
     "name": "stdout",
     "output_type": "stream",
     "text": [
      "(10000, 921) (921, 3072)\n"
     ]
    }
   ],
   "source": [
    "W = np.loadtxt(f\"./MFR/W_921_1000.csv\", delimiter=\",\")\n",
    "H = np.loadtxt(f\"./MFR/H_921_1000.csv\", delimiter=\",\")\n",
    "print(W.shape, H.shape)"
   ]
  },
  {
   "cell_type": "code",
   "execution_count": 15,
   "metadata": {
    "colab": {
     "base_uri": "https://localhost:8080/",
     "height": 268
    },
    "executionInfo": {
     "elapsed": 7878,
     "status": "ok",
     "timestamp": 1695849439789,
     "user": {
      "displayName": "Дмитрий Камышников",
      "userId": "03871553027115189109"
     },
     "user_tz": -180
    },
    "id": "BzYg15oM46V9",
    "outputId": "7f833ec4-9fd6-4df9-8ba8-4153fb945801"
   },
   "outputs": [
    {
     "data": {
      "image/png": "[encoded data removed]",
      "text/plain": [
       "<Figure size 1500x300 with 1 Axes>"
      ]
     },
     "metadata": {},
     "output_type": "display_data"
    }
   ],
   "source": [
    "fig, axes = plt.subplots(1, 1, figsize=(15, 3))\n",
    "new_image = (W @ H).reshape(50000,32,32,3)[0]\n",
    "new_image = (new_image - np.min(new_image)) / (np.max(new_image) - np.min(new_image))\n",
    "axes.imshow(new_image)\n",
    "axes.axis('off')\n",
    "plt.show()"
   ]
  },
  {
   "cell_type": "code",
   "execution_count": 16,
   "metadata": {
    "colab": {
     "base_uri": "https://localhost:8080/"
    },
    "executionInfo": {
     "elapsed": 373,
     "status": "ok",
     "timestamp": 1695849442758,
     "user": {
      "displayName": "Дмитрий Камышников",
      "userId": "03871553027115189109"
     },
     "user_tz": -180
    },
    "id": "lLh7MDZU46V-",
    "outputId": "341c4a5b-d636-42eb-b923-577fd2c3aaf4"
   },
   "outputs": [
    {
     "name": "stdout",
     "output_type": "stream",
     "text": [
      "(50000, 657)\n",
      "(657, 3072)\n"
     ]
    }
   ],
   "source": [
    "print(W.shape)\n",
    "print(H.shape)"
   ]
  },
  {
   "cell_type": "markdown",
   "metadata": {
    "id": "P-WshFMqo1_8"
   },
   "source": [
    "Do not forget to check, that $W H = V$.  \n",
    "Which of those matrices contains basis images? Why do you think so? What is inside the other matrix?"
   ]
  },
  {
   "cell_type": "markdown",
   "metadata": {
    "id": "AwSXXww6pWxY"
   },
   "source": [
    "*write your answer here*\n",
    "\n",
    "NMF will produce two matrices W and H. The columns of W can be interpreted as images (the basis images), and H tells us how to sum up the basis images in order to reconstruct an approximation to a given face.\n",
    "\n",
    "The columns of the basis matrix (W) are often referred to as basis images or components. These basis images are learned by NMF from the input data and are constructed in such a way that they are non-negative linear combinations of the original features (in the case of images, these features are pixel values). Each basis image captures certain patterns or features present in the data.\n",
    "\n",
    "The coefficient matrix (H) contains non-negative coefficients for each basis image. Each column of H corresponds to a specific data point (in your case, a face), and the coefficients in that column represent how much of each basis image is needed to reconstruct the corresponding data point."
   ]
  },
  {
   "cell_type": "markdown",
   "metadata": {
    "id": "RfrR9xuBpc4s"
   },
   "source": [
    "Compare first five basis images created by PCA and by NNMF (Find 5 best NNMF basises). Write down your observations."
   ]
  },
  {
   "cell_type": "code",
   "execution_count": 17,
   "metadata": {
    "colab": {
     "base_uri": "https://localhost:8080/",
     "height": 519
    },
    "executionInfo": {
     "elapsed": 30708,
     "status": "ok",
     "timestamp": 1695849477465,
     "user": {
      "displayName": "Дмитрий Камышников",
      "userId": "03871553027115189109"
     },
     "user_tz": -180
    },
    "id": "RJGdF_eMpUJU",
    "outputId": "369c642f-10ed-458a-b0e4-d638fb6baa7f",
    "scrolled": false
   },
   "outputs": [
    {
     "data": {
      "image/png": "[encoded data removed]",
      "text/plain": [
       "<Figure size 1500x300 with 1 Axes>"
      ]
     },
     "metadata": {},
     "output_type": "display_data"
    },
    {
     "data": {
      "image/png": "[encoded data removed]",
      "text/plain": [
       "<Figure size 600x300 with 1 Axes>"
      ]
     },
     "metadata": {},
     "output_type": "display_data"
    }
   ],
   "source": [
    "# Calculate the L2-norm for each basis vector in W\n",
    "norms = np.linalg.norm(W, axis=0)\n",
    "\n",
    "# Create a list of tuples containing (basis_vector_index, norm_value)\n",
    "basis_vector_indices_with_norms = [(i, norm) for i, norm in enumerate(norms)]\n",
    "\n",
    "# Sort the list by norm values in descending order\n",
    "basis_vector_indices_with_norms.sort(key=lambda x: x[1], reverse=True)\n",
    "\n",
    "# Get the indices of the first 5 most important basis vectors\n",
    "top_5_indices = [index for index, _ in basis_vector_indices_with_norms[:5]]\n",
    "# Retrieve the first 5 most important basis vectors from W\n",
    "top_5_basis_vectors = W[:, top_5_indices]\n",
    "\n",
    "# Retrieve the corresponding coefficients from H\n",
    "top_5_coefficients = H[top_5_indices, :]\n",
    "\n",
    "image = top_5_basis_vectors @ top_5_coefficients\n",
    "fig, axes = plt.subplots(1, 1, figsize=(15, 3))\n",
    "new_image = image.reshape(50000,32,32,3)[0]\n",
    "new_image = (new_image - np.min(new_image)) / (np.max(new_image) - np.min(new_image))\n",
    "axes.imshow(new_image)\n",
    "axes.axis('off')\n",
    "plt.show()\n",
    "\n",
    "plot_n_basis(5)"
   ]
  },
  {
   "cell_type": "markdown",
   "metadata": {
    "id": "ZU7cChCDpogv"
   },
   "source": [
    "*write your answer here*\n",
    "\n",
    "Orthogonal Components: PCA produces orthogonal principal components, which capture the maximum variance in the data. This property simplifies interpretation and can lead to more compact representations of the data.\n",
    "\n",
    "Mathematical Simplicity: PCA is mathematically well-defined and straightforward to implement. It has a clear connection to eigenvalue decomposition, making it widely used and understood.\n",
    "\n",
    "Non-Negativity Constraint: NMF enforces non-negativity constraints on both the basis and coefficient matrices. This property makes it well-suited for datasets where negative values don't have meaningful interpretations, such as images, text, or gene expression data."
   ]
  },
  {
   "cell_type": "markdown",
   "metadata": {
    "id": "ZvwJnmOG9gSP"
   },
   "source": [
    "Randomly choose some images, re-create them using PCA and NNMF. How do the resulting images differ? Write down your observations."
   ]
  },
  {
   "cell_type": "code",
   "execution_count": 18,
   "metadata": {
    "colab": {
     "base_uri": "https://localhost:8080/",
     "height": 268
    },
    "executionInfo": {
     "elapsed": 7578,
     "status": "ok",
     "timestamp": 1695849536966,
     "user": {
      "displayName": "Дмитрий Камышников",
      "userId": "03871553027115189109"
     },
     "user_tz": -180
    },
    "id": "f3ccocLL9gSP",
    "outputId": "7b3783de-45c7-4c15-cfad-da4ae710e4bd"
   },
   "outputs": [
    {
     "data": {
      "image/png": "[encoded data removed]",
      "text/plain": [
       "<Figure size 1500x300 with 3 Axes>"
      ]
     },
     "metadata": {},
     "output_type": "display_data"
    }
   ],
   "source": [
    "fig, axes = plt.subplots(1, 3, figsize=(15, 3))\n",
    "source_image = data[1].reshape(32,32,3)\n",
    "source_image = (source_image - np.min(source_image)) / (np.max(source_image) - np.min(source_image))\n",
    "new_image_PCA = pca.transform(data[1])\n",
    "new_image_PCA = pca.restore_data(new_image_PCA).reshape(32,32,3)\n",
    "new_image_PCA = (new_image_PCA - np.min(new_image_PCA)) / (np.max(new_image_PCA) - np.min(new_image_PCA))\n",
    "new_image_NNMF = (W @ H).reshape(50000,32,32,3)[1]\n",
    "new_image_NNMF = (new_image_NNMF - np.min(new_image_NNMF)) / (np.max(new_image_NNMF) - np.min(new_image_NNMF))\n",
    "axes[0].imshow(source_image)\n",
    "axes[0].axis('off')\n",
    "axes[1].imshow(new_image_PCA)\n",
    "axes[1].axis('off')\n",
    "axes[2].imshow(new_image_NNMF)\n",
    "axes[2].axis('off')\n",
    "plt.show()"
   ]
  },
  {
   "cell_type": "markdown",
   "metadata": {
    "id": "GeydKGXX9gSQ"
   },
   "source": [
    "*write your answer here*\n",
    "\n",
    "PCA-Reconstructed Image (Middle Image):\n",
    "\n",
    "The middle image is the result of reconstructing the selected image using PCA.\n",
    "PCA attempts to capture the most significant patterns and variations in the data. As a result, the PCA-reconstructed image may capture the global structure and major features of the original image.\n",
    "Depending on the number of PCA components used, the reconstructed image may have a smoother appearance, as PCA tends to focus on capturing global variations.\n",
    "\n",
    "NMF-Reconstructed Image (Rightmost Image):\n",
    "\n",
    "The rightmost image is the result of reconstructing the selected image using Non-Negative Matrix Factorization (NMF).\n",
    "NMF aims to represent the data using additive parts, making it particularly suitable for capturing localized features or patterns.\n",
    "The NMF-reconstructed image may emphasize specific parts or details of the original image, such as edges, textures, or objects. It may exhibit a more \"parts-based\" appearance compared to PCA.\n",
    "\n"
   ]
  },
  {
   "cell_type": "markdown",
   "metadata": {
    "id": "C0G5rxZo8lQD"
   },
   "source": [
    "Train a linear classifier model at image dataset, using logspace-distributed points as the number of non-negative components (min – 1, max – all). Use at least 20 distinct numbers of components.\n",
    "\n",
    "For each trained model, evaluate the model using test set. Plot the dependency of accuracy at test depending on the number of components used by NNMF. Explain this dependency. Compare and contrast the dependency to one retrieved by PCA."
   ]
  },
  {
   "cell_type": "code",
   "execution_count": 21,
   "metadata": {
    "colab": {
     "base_uri": "https://localhost:8080/",
     "height": 245
    },
    "executionInfo": {
     "elapsed": 280,
     "status": "error",
     "timestamp": 1695849748132,
     "user": {
      "displayName": "Дмитрий Камышников",
      "userId": "03871553027115189109"
     },
     "user_tz": -180
    },
    "id": "56vqzWaF46WN",
    "outputId": "63b056e1-6d76-45af-cb3d-5625c3a6a051"
   },
   "outputs": [
    {
     "name": "stdout",
     "output_type": "stream",
     "text": [
      "(10000, 1)\n",
      "(1000, 1) (9000, 1)\n",
      "(1000, 1) (1000,)\n"
     ]
    },
    {
     "name": "stderr",
     "output_type": "stream",
     "text": [
      "D:\\anaconda3\\Lib\\site-packages\\sklearn\\utils\\validation.py:1184: DataConversionWarning: A column-vector y was passed when a 1d array was expected. Please change the shape of y to (n_samples, ), for example using ravel().\n",
      "  y = column_or_1d(y, warn=True)\n",
      "D:\\anaconda3\\Lib\\site-packages\\sklearn\\utils\\validation.py:1184: DataConversionWarning: A column-vector y was passed when a 1d array was expected. Please change the shape of y to (n_samples, ), for example using ravel().\n",
      "  y = column_or_1d(y, warn=True)\n"
     ]
    },
    {
     "name": "stdout",
     "output_type": "stream",
     "text": [
      "(1000, 1) (1000,)\n",
      "(1000, 1) (1000,)\n"
     ]
    },
    {
     "name": "stderr",
     "output_type": "stream",
     "text": [
      "D:\\anaconda3\\Lib\\site-packages\\sklearn\\utils\\validation.py:1184: DataConversionWarning: A column-vector y was passed when a 1d array was expected. Please change the shape of y to (n_samples, ), for example using ravel().\n",
      "  y = column_or_1d(y, warn=True)\n",
      "D:\\anaconda3\\Lib\\site-packages\\sklearn\\utils\\validation.py:1184: DataConversionWarning: A column-vector y was passed when a 1d array was expected. Please change the shape of y to (n_samples, ), for example using ravel().\n",
      "  y = column_or_1d(y, warn=True)\n"
     ]
    },
    {
     "name": "stdout",
     "output_type": "stream",
     "text": [
      "(1000, 1) (1000,)\n"
     ]
    },
    {
     "name": "stderr",
     "output_type": "stream",
     "text": [
      "D:\\anaconda3\\Lib\\site-packages\\sklearn\\utils\\validation.py:1184: DataConversionWarning: A column-vector y was passed when a 1d array was expected. Please change the shape of y to (n_samples, ), for example using ravel().\n",
      "  y = column_or_1d(y, warn=True)\n"
     ]
    },
    {
     "name": "stdout",
     "output_type": "stream",
     "text": [
      "(1000, 1) (1000,)\n"
     ]
    },
    {
     "name": "stderr",
     "output_type": "stream",
     "text": [
      "D:\\anaconda3\\Lib\\site-packages\\sklearn\\utils\\validation.py:1184: DataConversionWarning: A column-vector y was passed when a 1d array was expected. Please change the shape of y to (n_samples, ), for example using ravel().\n",
      "  y = column_or_1d(y, warn=True)\n",
      "D:\\anaconda3\\Lib\\site-packages\\sklearn\\linear_model\\_sag.py:350: ConvergenceWarning: The max_iter was reached which means the coef_ did not converge\n",
      "  warnings.warn(\n",
      "D:\\anaconda3\\Lib\\site-packages\\sklearn\\utils\\validation.py:1184: DataConversionWarning: A column-vector y was passed when a 1d array was expected. Please change the shape of y to (n_samples, ), for example using ravel().\n",
      "  y = column_or_1d(y, warn=True)\n"
     ]
    },
    {
     "name": "stdout",
     "output_type": "stream",
     "text": [
      "(1000, 1) (1000,)\n"
     ]
    },
    {
     "name": "stderr",
     "output_type": "stream",
     "text": [
      "D:\\anaconda3\\Lib\\site-packages\\sklearn\\linear_model\\_sag.py:350: ConvergenceWarning: The max_iter was reached which means the coef_ did not converge\n",
      "  warnings.warn(\n"
     ]
    },
    {
     "name": "stdout",
     "output_type": "stream",
     "text": [
      "(1000, 1) (1000,)\n"
     ]
    },
    {
     "name": "stderr",
     "output_type": "stream",
     "text": [
      "D:\\anaconda3\\Lib\\site-packages\\sklearn\\utils\\validation.py:1184: DataConversionWarning: A column-vector y was passed when a 1d array was expected. Please change the shape of y to (n_samples, ), for example using ravel().\n",
      "  y = column_or_1d(y, warn=True)\n",
      "D:\\anaconda3\\Lib\\site-packages\\sklearn\\linear_model\\_sag.py:350: ConvergenceWarning: The max_iter was reached which means the coef_ did not converge\n",
      "  warnings.warn(\n"
     ]
    },
    {
     "name": "stdout",
     "output_type": "stream",
     "text": [
      "(1000, 1) (1000,)\n"
     ]
    },
    {
     "name": "stderr",
     "output_type": "stream",
     "text": [
      "D:\\anaconda3\\Lib\\site-packages\\sklearn\\utils\\validation.py:1184: DataConversionWarning: A column-vector y was passed when a 1d array was expected. Please change the shape of y to (n_samples, ), for example using ravel().\n",
      "  y = column_or_1d(y, warn=True)\n",
      "D:\\anaconda3\\Lib\\site-packages\\sklearn\\linear_model\\_sag.py:350: ConvergenceWarning: The max_iter was reached which means the coef_ did not converge\n",
      "  warnings.warn(\n"
     ]
    },
    {
     "name": "stdout",
     "output_type": "stream",
     "text": [
      "(1000, 1) (1000,)\n"
     ]
    },
    {
     "name": "stderr",
     "output_type": "stream",
     "text": [
      "D:\\anaconda3\\Lib\\site-packages\\sklearn\\utils\\validation.py:1184: DataConversionWarning: A column-vector y was passed when a 1d array was expected. Please change the shape of y to (n_samples, ), for example using ravel().\n",
      "  y = column_or_1d(y, warn=True)\n",
      "D:\\anaconda3\\Lib\\site-packages\\sklearn\\linear_model\\_sag.py:350: ConvergenceWarning: The max_iter was reached which means the coef_ did not converge\n",
      "  warnings.warn(\n"
     ]
    },
    {
     "name": "stdout",
     "output_type": "stream",
     "text": [
      "(1000, 1) (1000,)\n"
     ]
    },
    {
     "name": "stderr",
     "output_type": "stream",
     "text": [
      "D:\\anaconda3\\Lib\\site-packages\\sklearn\\utils\\validation.py:1184: DataConversionWarning: A column-vector y was passed when a 1d array was expected. Please change the shape of y to (n_samples, ), for example using ravel().\n",
      "  y = column_or_1d(y, warn=True)\n",
      "D:\\anaconda3\\Lib\\site-packages\\sklearn\\linear_model\\_sag.py:350: ConvergenceWarning: The max_iter was reached which means the coef_ did not converge\n",
      "  warnings.warn(\n"
     ]
    },
    {
     "name": "stdout",
     "output_type": "stream",
     "text": [
      "(1000, 1) (1000,)\n"
     ]
    },
    {
     "name": "stderr",
     "output_type": "stream",
     "text": [
      "D:\\anaconda3\\Lib\\site-packages\\sklearn\\utils\\validation.py:1184: DataConversionWarning: A column-vector y was passed when a 1d array was expected. Please change the shape of y to (n_samples, ), for example using ravel().\n",
      "  y = column_or_1d(y, warn=True)\n",
      "D:\\anaconda3\\Lib\\site-packages\\sklearn\\linear_model\\_sag.py:350: ConvergenceWarning: The max_iter was reached which means the coef_ did not converge\n",
      "  warnings.warn(\n"
     ]
    },
    {
     "name": "stdout",
     "output_type": "stream",
     "text": [
      "(1000, 1) (1000,)\n"
     ]
    },
    {
     "name": "stderr",
     "output_type": "stream",
     "text": [
      "D:\\anaconda3\\Lib\\site-packages\\sklearn\\utils\\validation.py:1184: DataConversionWarning: A column-vector y was passed when a 1d array was expected. Please change the shape of y to (n_samples, ), for example using ravel().\n",
      "  y = column_or_1d(y, warn=True)\n",
      "D:\\anaconda3\\Lib\\site-packages\\sklearn\\linear_model\\_sag.py:350: ConvergenceWarning: The max_iter was reached which means the coef_ did not converge\n",
      "  warnings.warn(\n"
     ]
    },
    {
     "name": "stdout",
     "output_type": "stream",
     "text": [
      "(1000, 1) (1000,)\n"
     ]
    },
    {
     "name": "stderr",
     "output_type": "stream",
     "text": [
      "D:\\anaconda3\\Lib\\site-packages\\sklearn\\utils\\validation.py:1184: DataConversionWarning: A column-vector y was passed when a 1d array was expected. Please change the shape of y to (n_samples, ), for example using ravel().\n",
      "  y = column_or_1d(y, warn=True)\n",
      "D:\\anaconda3\\Lib\\site-packages\\sklearn\\linear_model\\_sag.py:350: ConvergenceWarning: The max_iter was reached which means the coef_ did not converge\n",
      "  warnings.warn(\n"
     ]
    },
    {
     "name": "stdout",
     "output_type": "stream",
     "text": [
      "(1000, 1) (1000,)\n"
     ]
    },
    {
     "name": "stderr",
     "output_type": "stream",
     "text": [
      "D:\\anaconda3\\Lib\\site-packages\\sklearn\\utils\\validation.py:1184: DataConversionWarning: A column-vector y was passed when a 1d array was expected. Please change the shape of y to (n_samples, ), for example using ravel().\n",
      "  y = column_or_1d(y, warn=True)\n",
      "D:\\anaconda3\\Lib\\site-packages\\sklearn\\linear_model\\_sag.py:350: ConvergenceWarning: The max_iter was reached which means the coef_ did not converge\n",
      "  warnings.warn(\n"
     ]
    },
    {
     "name": "stdout",
     "output_type": "stream",
     "text": [
      "(1000, 1) (1000,)\n"
     ]
    },
    {
     "name": "stderr",
     "output_type": "stream",
     "text": [
      "D:\\anaconda3\\Lib\\site-packages\\sklearn\\utils\\validation.py:1184: DataConversionWarning: A column-vector y was passed when a 1d array was expected. Please change the shape of y to (n_samples, ), for example using ravel().\n",
      "  y = column_or_1d(y, warn=True)\n",
      "D:\\anaconda3\\Lib\\site-packages\\sklearn\\linear_model\\_sag.py:350: ConvergenceWarning: The max_iter was reached which means the coef_ did not converge\n",
      "  warnings.warn(\n"
     ]
    },
    {
     "name": "stdout",
     "output_type": "stream",
     "text": [
      "(1000, 1) (1000,)\n"
     ]
    },
    {
     "name": "stderr",
     "output_type": "stream",
     "text": [
      "D:\\anaconda3\\Lib\\site-packages\\sklearn\\utils\\validation.py:1184: DataConversionWarning: A column-vector y was passed when a 1d array was expected. Please change the shape of y to (n_samples, ), for example using ravel().\n",
      "  y = column_or_1d(y, warn=True)\n",
      "D:\\anaconda3\\Lib\\site-packages\\sklearn\\linear_model\\_sag.py:350: ConvergenceWarning: The max_iter was reached which means the coef_ did not converge\n",
      "  warnings.warn(\n"
     ]
    },
    {
     "name": "stdout",
     "output_type": "stream",
     "text": [
      "(1000, 1) (1000,)\n"
     ]
    },
    {
     "name": "stderr",
     "output_type": "stream",
     "text": [
      "D:\\anaconda3\\Lib\\site-packages\\sklearn\\utils\\validation.py:1184: DataConversionWarning: A column-vector y was passed when a 1d array was expected. Please change the shape of y to (n_samples, ), for example using ravel().\n",
      "  y = column_or_1d(y, warn=True)\n"
     ]
    },
    {
     "name": "stdout",
     "output_type": "stream",
     "text": [
      "(1000, 1) (1000,)\n"
     ]
    },
    {
     "name": "stderr",
     "output_type": "stream",
     "text": [
      "D:\\anaconda3\\Lib\\site-packages\\sklearn\\utils\\validation.py:1184: DataConversionWarning: A column-vector y was passed when a 1d array was expected. Please change the shape of y to (n_samples, ), for example using ravel().\n",
      "  y = column_or_1d(y, warn=True)\n"
     ]
    },
    {
     "name": "stdout",
     "output_type": "stream",
     "text": [
      "(1000, 1) (1000,)\n"
     ]
    },
    {
     "name": "stderr",
     "output_type": "stream",
     "text": [
      "D:\\anaconda3\\Lib\\site-packages\\sklearn\\utils\\validation.py:1184: DataConversionWarning: A column-vector y was passed when a 1d array was expected. Please change the shape of y to (n_samples, ), for example using ravel().\n",
      "  y = column_or_1d(y, warn=True)\n"
     ]
    },
    {
     "name": "stdout",
     "output_type": "stream",
     "text": [
      "(1000, 1) (1000,)\n"
     ]
    }
   ],
   "source": [
    "from sklearn.linear_model import LogisticRegression\n",
    "from sklearn.metrics import accuracy_score\n",
    "from sklearn.decomposition import NMF\n",
    "\n",
    "# Define a range of components for NMF\n",
    "# num_components_range_nmf = np.logspace(0, np.log10(X_train.shape[1]), 20).astype(int)\n",
    "range_num_comp = np.logspace(np.log10(1), np.log10(32*32*3), 21).astype(int)[1:]\n",
    "range_num_comp[-1] += 1\n",
    "# num_components_range_nmf = np.ceil(np.logspace(0, np.log(3072), num = 20, base = np.e)).astype(int)\n",
    "\n",
    "# Lists to store accuracy scores\n",
    "accuracy_scores_nmf_train = []\n",
    "accuracy_scores_nmf_test = []\n",
    "\n",
    "print(y_test.shape)\n",
    "y_test = y_train[9000:10000,]\n",
    "y_train = y_train[:9000,]\n",
    "print(y_test.shape, y_train.shape)\n",
    "for num_components in range_num_comp:\n",
    "    # Create an NMF model with the specified number of components\n",
    "    W = np.loadtxt(f\"./MFR/W_{num_components}_1000.csv\", delimiter=\",\")\n",
    "    if num_components == 1:\n",
    "        W = W.reshape(-1,1)\n",
    "\n",
    "    # Fit the NMF model to the training data and transform data\n",
    "    X_train_nmf = W[:9000,]\n",
    "    X_test_nmf = W[9000:,]\n",
    "\n",
    "    # Train a linear classifier (Logistic Regression) on transformed training data\n",
    "    clf = LogisticRegression(solver='saga', random_state=2000)\n",
    "    clf.fit(X_train_nmf, y_train)\n",
    "\n",
    "    # Evaluate the model on the transformed test data\n",
    "    y_pred_train = clf.predict(X_train_nmf)\n",
    "    y_pred_test = clf.predict(X_test_nmf)\n",
    "    accuracy_scores_nmf_train.append(accuracy_score(y_train, y_pred_train))\n",
    "    print(y_test.shape, y_pred_test.shape)\n",
    "    accuracy_scores_nmf_test.append(accuracy_score(y_test, y_pred_test))\n",
    "    \n",
    "    "
   ]
  },
  {
   "cell_type": "code",
   "execution_count": 23,
   "metadata": {},
   "outputs": [
    {
     "data": {
      "image/png": "[encoded data removed]",
      "text/plain": [
       "<Figure size 800x600 with 1 Axes>"
      ]
     },
     "metadata": {},
     "output_type": "display_data"
    }
   ],
   "source": [
    "plt.figure(figsize=(8, 6))\n",
    "plt.plot(range_num_comp, accuracy_scores_nmf_train, marker='o', label='train')\n",
    "plt.plot(range_num_comp, accuracy_scores_nmf_test, marker='o', label='test')  # Include PCA results\n",
    "plt.xlabel('Number of Components')\n",
    "plt.ylabel('Test Accuracy')\n",
    "plt.title('NMF - Test Accuracy')\n",
    "# plt.xscale('log')\n",
    "plt.grid(True)\n",
    "plt.legend()\n",
    "plt.show()"
   ]
  },
  {
   "cell_type": "code",
   "execution_count": 39,
   "metadata": {},
   "outputs": [
    {
     "data": {
      "image/png": "[encoded data removed]",
      "text/plain": [
       "<Figure size 800x600 with 1 Axes>"
      ]
     },
     "metadata": {},
     "output_type": "display_data"
    }
   ],
   "source": [
    "# Plot the dependency of accuracy on the number of NMF components and PCA components\n",
    "plt.figure(figsize=(8, 6))\n",
    "plt.plot(range_num_comp, accuracy_scores_nmf_test, marker='o', label='NMF')\n",
    "plt.plot(num_components_range_pca, accuracy_scores_pca, marker='o', label='PCA')  # Include PCA results\n",
    "plt.xlabel('Number of Components')\n",
    "plt.ylabel('Test Accuracy')\n",
    "plt.title('NMF - PCA - Test Accuracy')\n",
    "# plt.xscale('log')\n",
    "plt.grid(True)\n",
    "plt.legend()\n",
    "plt.show()"
   ]
  },
  {
   "cell_type": "markdown",
   "metadata": {},
   "source": [
    "\n",
    "The plot will show how the test accuracy varies with the number of NMF components. You should observe an initially increasing trend in accuracy as you increase the number of components. This is because adding more components allows the model to capture more information from the data.\n",
    "\n",
    "However, there will be a point where adding more components does not significantly improve accuracy or may even lead to overfitting, resulting in a plateau or a drop in accuracy. This is similar to the behavior observed with PCA, where adding more components eventually provides diminishing returns in terms of capturing useful information.\n",
    "\n",
    "The dependency of accuracy on the number of components in NMF may be different from PCA because NMF focuses on parts-based representations and may emphasize different aspects of the data compared to PCA's orthogonal global patterns.\n",
    "\n",
    "The choice of the optimal number of components for NMF (and PCA) depends on the specific dataset and task. It involves a trade-off between capturing meaningful information and preventing overfitting.\n",
    "\n",
    "To compare and contrast with PCA, you can overlay the results of PCA on the same plot by including the relevant code (uncommented) that performs a similar analysis for PCA, using the same range of components. This will allow you to visually compare the dependencies of accuracy on the number of components between NMF and PCA."
   ]
  }
 ],
 "metadata": {
  "colab": {
   "provenance": []
  },
  "kernelspec": {
   "display_name": "Python 3 (ipykernel)",
   "language": "python",
   "name": "python3"
  },
  "language_info": {
   "codemirror_mode": {
    "name": "ipython",
    "version": 3
   },
   "file_extension": ".py",
   "mimetype": "text/x-python",
   "name": "python",
   "nbconvert_exporter": "python",
   "pygments_lexer": "ipython3",
   "version": "3.11.4"
  }
 },
 "nbformat": 4,
 "nbformat_minor": 1
}
